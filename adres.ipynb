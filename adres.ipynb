{
  "nbformat": 4,
  "nbformat_minor": 0,
  "metadata": {
    "colab": {
      "name": "adres.ipynb",
      "provenance": [],
      "mount_file_id": "10jpz3PjYXfIH94KHYyUn8EkR-UGP07mC",
      "authorship_tag": "ABX9TyOklkq+/RHrV/6p6AJgbyFE",
      "include_colab_link": true
    },
    "kernelspec": {
      "name": "python3",
      "display_name": "Python 3"
    },
    "language_info": {
      "name": "python"
    }
  },
  "cells": [
    {
      "cell_type": "markdown",
      "metadata": {
        "id": "view-in-github",
        "colab_type": "text"
      },
      "source": [
        "<a href=\"https://colab.research.google.com/github/rabiacicek/hu-bby162-2021/blob/main/adres.ipynb\" target=\"_parent\"><img src=\"https://colab.research.google.com/assets/colab-badge.svg\" alt=\"Open In Colab\"/></a>"
      ]
    },
    {
      "cell_type": "code",
      "metadata": {
        "colab": {
          "base_uri": "https://localhost:8080/"
        },
        "id": "nxxduvyC1t-u",
        "outputId": "a5757fc7-e5e3-4d66-d6a0-56cf216e3143"
      },
      "source": [
        "#dosya okuma\n",
        "\n",
        "dosya = \"/content/drive/MyDrive/Colab Notebooks/BBY162-2021/adres.txt\"\n",
        "\n",
        "f = open(dosya, \"r\")\n",
        "\n",
        "for line in f.readlines():\n",
        "    print(line)\n",
        "\n",
        "f.close()"
      ],
      "execution_count": null,
      "outputs": [
        {
          "output_type": "stream",
          "text": [
            "ad: Rabia\n",
            "\n",
            "soyad : Çiçek\n",
            "\n",
            "e-posta: rabiyacilek@outlook.com\n"
          ],
          "name": "stdout"
        }
      ]
    },
    {
      "cell_type": "code",
      "metadata": {
        "id": "-S5QXUZd_a_G"
      },
      "source": [
        "#dosya yazma\n",
        "\n",
        "dosya = \"/content/drive/MyDrive/Colab Notebooks/BBY162-2021/adres.txtt\"\n",
        "f = open(dosya, \"a\")\n",
        "\n",
        "f.write(\"ad soyad: Rabia Çiçek, e-posta:rabiyacilek@outlook.com\\n\")\n",
        "f.write(\"ad soyad: Orçun Madran, e-posta:orcunmadran@gmail.com\\n\")\n"
      ],
      "execution_count": null,
      "outputs": []
    }
  ]
}