{
  "nbformat": 4,
  "nbformat_minor": 0,
  "metadata": {
    "colab": {
      "name": "final.ipynb ",
      "provenance": [],
      "mount_file_id": "1Xaz4_dYtz80oS_AiepZwSM_-cM3R7UA-",
      "authorship_tag": "ABX9TyP9yK53m1NgIJwnZCklPmhB",
      "include_colab_link": true
    },
    "kernelspec": {
      "name": "python3",
      "display_name": "Python 3"
    },
    "language_info": {
      "name": "python"
    }
  },
  "cells": [
    {
      "cell_type": "markdown",
      "metadata": {
        "id": "view-in-github",
        "colab_type": "text"
      },
      "source": [
        "<a href=\"https://colab.research.google.com/github/rabiacicek/hu-bby162-2021/blob/main/final.ipynb\" target=\"_parent\"><img src=\"https://colab.research.google.com/assets/colab-badge.svg\" alt=\"Open In Colab\"/></a>"
      ]
    },
    {
      "cell_type": "markdown",
      "metadata": {
        "id": "lLCAJRLEyXVW"
      },
      "source": [
        "FİNAL PROJESİ"
      ]
    },
    {
      "cell_type": "code",
      "metadata": {
        "colab": {
          "base_uri": "https://localhost:8080/"
        },
        "id": "e2nYJmzjyZoZ",
        "outputId": "d9e0a6d5-bfbd-400b-dc44-b0ccc0a950e5"
      },
      "source": [
        "#Kütüphane Otomasyonu\n",
        "\n",
        "dosya = \"/content/drive/MyDrive/Colab Notebooks/BBY162-2021/final.txt\"\n",
        "print(\":Kütüphane Otomasyon Kaydına Hoş geldiniz!:\")\n",
        "\n",
        "def listele():\n",
        "  f = open(dosya, \"r\") \n",
        "  for line in f.readlines():\n",
        "    print(line)\n",
        "  f.close()\n",
        "\n",
        "\n",
        "def ekle():\n",
        "  eserAdi= input(\"Eser adını giriniz: \")\n",
        "  yazarAdi= input(\"Yazar ismini giriniz: \")\n",
        "  yayınEvi = input(\"Yayınevi giriniz: \")\n",
        "  basımYılı = input(\"Yayın yılını giriniz: \")\n",
        "  isbn = input(\"ISBN giriniz: \")\n",
        "\n",
        "  f = open(dosya,\"a\")\n",
        "  f.write (eserAdi +\" - \" + yazarAdi + \" - \" + yayınEvi + \" - \" + basımYılı + \" - \"+ isbn + \"\\n\" )\n",
        "  f.close()\n",
        "  menu()\n",
        "\n",
        "def menu():\n",
        "  print(\"1) Kitap listele\")\n",
        "  print(\"2) Kitap ekle \")\n",
        "  secilen=input(\"Yapacağınız işlemi belirtiniz 1/2: \")\n",
        "  if secilen == \"1\":\n",
        "    listele()\n",
        "  elif secilen == \"2\":\n",
        "    ekle()\n",
        "  else:\n",
        "    print(\"Çıkışınız yapıldı\")\n",
        "menu()\n"
      ],
      "execution_count": 10,
      "outputs": [
        {
          "output_type": "stream",
          "text": [
            ":Kütüphane Otomasyon Kaydına Hoş geldiniz!:\n",
            "1) Kitap listele\n",
            "2) Kitap ekle \n",
            "Yapacağınız işlemi belirtiniz 1/2: 2\n",
            "Eser adını giriniz: Uyuyan Ölüm\n",
            "Yazar ismini giriniz: Agatha Christie\n",
            "Yayınevi giriniz: Altın Kitaplar Yayınevi\n",
            "Yayın yılını giriniz: 2011\n",
            "ISBN giriniz: 9789752109513\n",
            "1) Kitap listele\n",
            "2) Kitap ekle \n",
            "Yapacağınız işlemi belirtiniz 1/2: 2\n",
            "Eser adını giriniz: Kan Gölü\n",
            "Yazar ismini giriniz: Tess Gerritsen\n",
            "Yayınevi giriniz: Martı Yayınevi\n",
            "Yayın yılını giriniz: 2012\n",
            "ISBN giriniz: 9786053480341\n",
            "1) Kitap listele\n",
            "2) Kitap ekle \n",
            "Yapacağınız işlemi belirtiniz 1/2: 1\n",
            "Taaşşuk-ı Talat ve Fitnat, Şemsettin Sami, Sis Yayıncılık, 2015, 9786055768393\n",
            "\n",
            "Aklından Bir Sayı Tut, John Verdon, Koridor Yayınevi, 2017, 9786054188710\n",
            "\n",
            "Kan Gölü, Tess Gerritsen, Martı Yayınevi, 2012, 9786053480341\n",
            "\n",
            "Uyuyan Ölüm, Agatha Christie, Altın Kitaplar Yayınevi, 2011, 9789752109513\n",
            "\n",
            "3:01, Simon Kernick, Olimpos, 2015, 9786059609180\n",
            "\n",
            "Suç ve Ceza, Dostoyevski, Türkiye İş Bankası Kültür Yayınları, 2019, 9789754589023\n",
            "\n",
            "Zeytindağı, Falih Rıfkı Atay, Pozitif Yayınları, 2013, 9789756461075Uyuyan Ölüm - Agatha Christie - Altın Kitaplar Yayınevi - 2011 - 9789752109513\n",
            "\n",
            "Kan Gölü - Tess Gerritsen - Martı Yayınevi - 2012 - 9786053480341\n",
            "\n"
          ],
          "name": "stdout"
        }
      ]
    }
  ]
}